{
  "cells": [
    {
      "cell_type": "markdown",
      "metadata": {
        "id": "6FCDJ70OMwbB"
      },
      "source": [
        "# github-webscrapping\n",
        "\n",
        "- I am going to scrap https://github.com/topics\n",
        "- We will get Topic Title,TopicPage URL,Topic Description\n",
        "- For each topic we will get the top 25 repositories in the topic from the topic page\n",
        "- For each repository, we will get repo name ,username , stars and repo url\n",
        "- For each topic we will create a csv file\n",
        "```\n",
        "Repo Name,Username,Stars,Repo URL\n",
        "```\n",
        "- Use the \"Run\" button to execute the code."
      ]
    },
    {
      "cell_type": "code",
      "execution_count": 1,
      "metadata": {
        "colab": {
          "base_uri": "https://localhost:8080/"
        },
        "id": "t4KR9o29MwbM",
        "outputId": "0a1a2105-bd6b-4c04-9436-ba6327b63f42"
      },
      "outputs": [
        {
          "output_type": "stream",
          "name": "stdout",
          "text": [
            "Hello World\n"
          ]
        }
      ],
      "source": [
        "print('Hello World')"
      ]
    },
    {
      "cell_type": "code",
      "execution_count": 2,
      "metadata": {
        "id": "Z87xHrE-MwbQ",
        "colab": {
          "base_uri": "https://localhost:8080/"
        },
        "outputId": "3193a8f1-a456-4796-9130-fad84b4a86a7"
      },
      "outputs": [
        {
          "output_type": "stream",
          "name": "stdout",
          "text": [
            "\u001b[?25l     \u001b[90m━━━━━━━━━━━━━━━━━━━━━━━━━━━━━━━━━━━━━━━━\u001b[0m \u001b[32m0.0/68.6 kB\u001b[0m \u001b[31m?\u001b[0m eta \u001b[36m-:--:--\u001b[0m\r\u001b[2K     \u001b[91m━━━━━━━━━━━━━━━━━━━━━━━━━━━━━━━━━━━\u001b[0m\u001b[91m╸\u001b[0m\u001b[90m━━━━\u001b[0m \u001b[32m61.4/68.6 kB\u001b[0m \u001b[31m2.0 MB/s\u001b[0m eta \u001b[36m0:00:01\u001b[0m\r\u001b[2K     \u001b[90m━━━━━━━━━━━━━━━━━━━━━━━━━━━━━━━━━━━━━━━━\u001b[0m \u001b[32m68.6/68.6 kB\u001b[0m \u001b[31m1.7 MB/s\u001b[0m eta \u001b[36m0:00:00\u001b[0m\n",
            "\u001b[?25h  Preparing metadata (setup.py) ... \u001b[?25l\u001b[?25hdone\n",
            "  Building wheel for uuid (setup.py) ... \u001b[?25l\u001b[?25hdone\n"
          ]
        }
      ],
      "source": [
        "!pip install jovian --upgrade --quiet"
      ]
    },
    {
      "cell_type": "code",
      "execution_count": 3,
      "metadata": {
        "id": "G5gieQjkMwbR"
      },
      "outputs": [],
      "source": [
        "import jovian"
      ]
    },
    {
      "cell_type": "code",
      "execution_count": 4,
      "metadata": {
        "colab": {
          "base_uri": "https://localhost:8080/"
        },
        "id": "19hbAXzUMwbS",
        "outputId": "dcb53e45-98a1-4dcf-e41d-ec173bfeeeb0"
      },
      "outputs": [
        {
          "output_type": "stream",
          "name": "stdout",
          "text": [
            "[jovian] Detected Colab notebook...\u001b[0m\n",
            "[jovian] jovian.commit() is no longer required on Google Colab. If you ran this notebook from Jovian, \n",
            "then just save this file in Colab using Ctrl+S/Cmd+S and it will be updated on Jovian. \n",
            "Also, you can also delete this cell, it's no longer necessary.\u001b[0m\n"
          ]
        }
      ],
      "source": [
        "jovian.commit(project = \"Github Scrapping Project\")"
      ]
    },
    {
      "cell_type": "markdown",
      "metadata": {
        "id": "56fR5Ax1MwbT"
      },
      "source": [
        "# Use Requests Library to download Web pages"
      ]
    },
    {
      "cell_type": "code",
      "execution_count": 5,
      "metadata": {
        "id": "MoHCp94sMwbU"
      },
      "outputs": [],
      "source": [
        "!pip install requests --upgrade --quiet"
      ]
    },
    {
      "cell_type": "code",
      "execution_count": 6,
      "metadata": {
        "id": "p-TUCTjoMwbV"
      },
      "outputs": [],
      "source": [
        "import requests"
      ]
    },
    {
      "cell_type": "code",
      "execution_count": 7,
      "metadata": {
        "id": "Oz5hYcHNMwbW"
      },
      "outputs": [],
      "source": [
        "topics_url = 'https://github.com/topics'"
      ]
    },
    {
      "cell_type": "code",
      "execution_count": 8,
      "metadata": {
        "id": "lgCyZfPaMwbX"
      },
      "outputs": [],
      "source": [
        "response = requests.get(topics_url)"
      ]
    },
    {
      "cell_type": "code",
      "execution_count": 9,
      "metadata": {
        "colab": {
          "base_uri": "https://localhost:8080/"
        },
        "id": "GGq8-JdTMwbY",
        "outputId": "f5c7c5c1-6f9f-42d8-bf54-4f1fff753dcb"
      },
      "outputs": [
        {
          "output_type": "execute_result",
          "data": {
            "text/plain": [
              "200"
            ]
          },
          "metadata": {},
          "execution_count": 9
        }
      ],
      "source": [
        "response.status_code"
      ]
    },
    {
      "cell_type": "code",
      "execution_count": 10,
      "metadata": {
        "id": "8FYf46xwMwbZ"
      },
      "outputs": [],
      "source": [
        "#200 means successful"
      ]
    },
    {
      "cell_type": "code",
      "execution_count": 11,
      "metadata": {
        "colab": {
          "base_uri": "https://localhost:8080/"
        },
        "id": "7VR9LAQiMwba",
        "outputId": "4bd97412-45ed-4435-a328-7428820033db"
      },
      "outputs": [
        {
          "output_type": "execute_result",
          "data": {
            "text/plain": [
              "186053"
            ]
          },
          "metadata": {},
          "execution_count": 11
        }
      ],
      "source": [
        "len(response.text)"
      ]
    },
    {
      "cell_type": "code",
      "execution_count": 12,
      "metadata": {
        "colab": {
          "base_uri": "https://localhost:8080/",
          "height": 54
        },
        "id": "y2OljAA9Mwba",
        "outputId": "17e5b0a2-7e8e-4738-d58a-73ea044f3002"
      },
      "outputs": [
        {
          "output_type": "execute_result",
          "data": {
            "text/plain": [
              "'\\n\\n<!DOCTYPE html>\\n<html\\n  lang=\"en\"\\n  \\n  data-color-mode=\"auto\" data-light-theme=\"light\" data-dark-theme=\"dark\"\\n  data-a11y-animated-images=\"system\" data-a11y-link-underlines=\"true\"\\n  >\\n\\n\\n\\n\\n  <head>\\n '"
            ],
            "application/vnd.google.colaboratory.intrinsic+json": {
              "type": "string"
            }
          },
          "metadata": {},
          "execution_count": 12
        }
      ],
      "source": [
        "page_contents = response.text\n",
        "page_contents[:200]"
      ]
    },
    {
      "cell_type": "code",
      "execution_count": 13,
      "metadata": {
        "id": "lcNAcQk3Mwbb"
      },
      "outputs": [],
      "source": [
        "with open ('webpage.html','w') as file:\n",
        "    file.write(page_contents)"
      ]
    },
    {
      "cell_type": "markdown",
      "metadata": {
        "id": "4kexiCPoMwbb"
      },
      "source": [
        "# Use Beautiful Soup to parse and extract information"
      ]
    },
    {
      "cell_type": "code",
      "execution_count": 14,
      "metadata": {
        "id": "Aeahhlw7Mwbc"
      },
      "outputs": [],
      "source": [
        "pip install beautifulsoup4 --quiet"
      ]
    },
    {
      "cell_type": "code",
      "execution_count": 15,
      "metadata": {
        "id": "HzB5cqJVMwbc"
      },
      "outputs": [],
      "source": [
        "from bs4 import BeautifulSoup"
      ]
    },
    {
      "cell_type": "code",
      "execution_count": 16,
      "metadata": {
        "id": "MP5W3cJxMwbd"
      },
      "outputs": [],
      "source": [
        "doc = BeautifulSoup(page_contents, 'html.parser')"
      ]
    },
    {
      "cell_type": "code",
      "execution_count": 17,
      "metadata": {
        "colab": {
          "base_uri": "https://localhost:8080/",
          "height": 186
        },
        "id": "MsBCR0m9Mwbd",
        "outputId": "6e321c1c-77a6-4fd6-e891-12c5e4c99101"
      },
      "outputs": [
        {
          "output_type": "execute_result",
          "data": {
            "text/plain": [
              "bs4.BeautifulSoup"
            ],
            "text/html": [
              "<div style=\"max-width:800px; border: 1px solid var(--colab-border-color);\"><style>\n",
              "      pre.function-repr-contents {\n",
              "        overflow-x: auto;\n",
              "        padding: 8px 12px;\n",
              "        max-height: 500px;\n",
              "      }\n",
              "\n",
              "      pre.function-repr-contents.function-repr-contents-collapsed {\n",
              "        cursor: pointer;\n",
              "        max-height: 100px;\n",
              "      }\n",
              "    </style>\n",
              "    <pre style=\"white-space: initial; background:\n",
              "         var(--colab-secondary-surface-color); padding: 8px 12px;\n",
              "         border-bottom: 1px solid var(--colab-border-color);\"><b>bs4.BeautifulSoup</b><br/>def __call__(*args, **kwargs)</pre><pre class=\"function-repr-contents function-repr-contents-collapsed\" style=\"\"><a class=\"filepath\" style=\"display:none\" href=\"#\">/usr/local/lib/python3.10/dist-packages/bs4/__init__.py</a>A data structure representing a parsed HTML or XML document.\n",
              "\n",
              "Most of the methods you&#x27;ll call on a BeautifulSoup object are inherited from\n",
              "PageElement or Tag.\n",
              "\n",
              "Internally, this class defines the basic interface called by the\n",
              "tree builders when converting an HTML/XML document into a data\n",
              "structure. The interface abstracts away the differences between\n",
              "parsers. To write a new tree builder, you&#x27;ll need to understand\n",
              "these methods as a whole.\n",
              "\n",
              "These methods will be called by the BeautifulSoup constructor:\n",
              "  * reset()\n",
              "  * feed(markup)\n",
              "\n",
              "The tree builder may call these methods from its feed() implementation:\n",
              "  * handle_starttag(name, attrs) # See note about return value\n",
              "  * handle_endtag(name)\n",
              "  * handle_data(data) # Appends to the current data node\n",
              "  * endData(containerClass) # Ends the current data node\n",
              "\n",
              "No matter how complicated the underlying parser is, you should be\n",
              "able to build a tree using &#x27;start tag&#x27; events, &#x27;end tag&#x27; events,\n",
              "&#x27;data&#x27; events, and &quot;done with data&quot; events.\n",
              "\n",
              "If you encounter an empty-element tag (aka a self-closing tag,\n",
              "like HTML&#x27;s &lt;br&gt; tag), call handle_starttag and then\n",
              "handle_endtag.</pre>\n",
              "      <script>\n",
              "      if (google.colab.kernel.accessAllowed && google.colab.files && google.colab.files.view) {\n",
              "        for (const element of document.querySelectorAll('.filepath')) {\n",
              "          element.style.display = 'block'\n",
              "          element.onclick = (event) => {\n",
              "            event.preventDefault();\n",
              "            event.stopPropagation();\n",
              "            google.colab.files.view(element.textContent, 76);\n",
              "          };\n",
              "        }\n",
              "      }\n",
              "      for (const element of document.querySelectorAll('.function-repr-contents')) {\n",
              "        element.onclick = (event) => {\n",
              "          event.preventDefault();\n",
              "          event.stopPropagation();\n",
              "          element.classList.toggle('function-repr-contents-collapsed');\n",
              "        };\n",
              "      }\n",
              "      </script>\n",
              "      </div>"
            ]
          },
          "metadata": {},
          "execution_count": 17
        }
      ],
      "source": [
        "type(doc)"
      ]
    },
    {
      "cell_type": "code",
      "execution_count": 18,
      "metadata": {
        "id": "LJcSBLG2Mwbe"
      },
      "outputs": [],
      "source": [
        "p_tags = doc.find_all('p')"
      ]
    },
    {
      "cell_type": "code",
      "execution_count": 19,
      "metadata": {
        "colab": {
          "base_uri": "https://localhost:8080/"
        },
        "id": "7ga-qw6iMwbe",
        "outputId": "8fcf0bae-9158-4f3d-b782-bcb040cc2af6"
      },
      "outputs": [
        {
          "output_type": "execute_result",
          "data": {
            "text/plain": [
              "69"
            ]
          },
          "metadata": {},
          "execution_count": 19
        }
      ],
      "source": [
        "len(p_tags)"
      ]
    },
    {
      "cell_type": "code",
      "execution_count": 20,
      "metadata": {
        "colab": {
          "base_uri": "https://localhost:8080/"
        },
        "id": "lzPw1drbMwbf",
        "outputId": "2958abdd-cae0-427b-9750-23e6fb950c92"
      },
      "outputs": [
        {
          "output_type": "execute_result",
          "data": {
            "text/plain": [
              "30"
            ]
          },
          "metadata": {},
          "execution_count": 20
        }
      ],
      "source": [
        "selection_class_heading = \"f3 lh-condensed mb-0 mt-1 Link--primary\"\n",
        "p_tags_h = doc.find_all('p',{'class' : selection_class_heading})\n",
        "len(p_tags_h)"
      ]
    },
    {
      "cell_type": "code",
      "execution_count": 21,
      "metadata": {
        "colab": {
          "base_uri": "https://localhost:8080/"
        },
        "id": "ZhZmj5S1Mwbf",
        "outputId": "5d115e70-fc28-4af4-9cef-50cf325736e7"
      },
      "outputs": [
        {
          "output_type": "execute_result",
          "data": {
            "text/plain": [
              "[<p class=\"f3 lh-condensed mb-0 mt-1 Link--primary\">3D</p>,\n",
              " <p class=\"f3 lh-condensed mb-0 mt-1 Link--primary\">Ajax</p>,\n",
              " <p class=\"f3 lh-condensed mb-0 mt-1 Link--primary\">Algorithm</p>,\n",
              " <p class=\"f3 lh-condensed mb-0 mt-1 Link--primary\">Amp</p>,\n",
              " <p class=\"f3 lh-condensed mb-0 mt-1 Link--primary\">Android</p>]"
            ]
          },
          "metadata": {},
          "execution_count": 21
        }
      ],
      "source": [
        "p_tags_h[:5]"
      ]
    },
    {
      "cell_type": "code",
      "execution_count": 22,
      "metadata": {
        "colab": {
          "base_uri": "https://localhost:8080/"
        },
        "id": "JbiWTwYMMwbg",
        "outputId": "99a119de-2bbe-4def-c82c-14ac70c902ee"
      },
      "outputs": [
        {
          "output_type": "execute_result",
          "data": {
            "text/plain": [
              "['3D',\n",
              " 'Ajax',\n",
              " 'Algorithm',\n",
              " 'Amp',\n",
              " 'Android',\n",
              " 'Angular',\n",
              " 'Ansible',\n",
              " 'API',\n",
              " 'Arduino',\n",
              " 'ASP.NET',\n",
              " 'Atom',\n",
              " 'Awesome Lists',\n",
              " 'Amazon Web Services',\n",
              " 'Azure',\n",
              " 'Babel',\n",
              " 'Bash',\n",
              " 'Bitcoin',\n",
              " 'Bootstrap',\n",
              " 'Bot',\n",
              " 'C',\n",
              " 'Chrome',\n",
              " 'Chrome extension',\n",
              " 'Command line interface',\n",
              " 'Clojure',\n",
              " 'Code quality',\n",
              " 'Code review',\n",
              " 'Compiler',\n",
              " 'Continuous integration',\n",
              " 'COVID-19',\n",
              " 'C++']"
            ]
          },
          "metadata": {},
          "execution_count": 22
        }
      ],
      "source": [
        "headings = []\n",
        "for heading in p_tags_h:\n",
        "    headings.append(heading.text)\n",
        "headings"
      ]
    },
    {
      "cell_type": "code",
      "execution_count": 23,
      "metadata": {
        "colab": {
          "base_uri": "https://localhost:8080/"
        },
        "id": "5Zgf3EcAMwbg",
        "outputId": "0e657f0b-ed0b-4810-c398-bb8fc70abd2a"
      },
      "outputs": [
        {
          "output_type": "execute_result",
          "data": {
            "text/plain": [
              "30"
            ]
          },
          "metadata": {},
          "execution_count": 23
        }
      ],
      "source": [
        "selection_class_paragraph = 'f5 color-fg-muted mb-0 mt-1'\n",
        "p_tags_p = doc.find_all('p',{'class' : selection_class_paragraph})\n",
        "len(p_tags_p)"
      ]
    },
    {
      "cell_type": "code",
      "execution_count": 24,
      "metadata": {
        "colab": {
          "base_uri": "https://localhost:8080/"
        },
        "id": "lCFiSDPaMwbg",
        "outputId": "f94cb091-18ef-4a58-ceb4-9bbabdf944da"
      },
      "outputs": [
        {
          "output_type": "execute_result",
          "data": {
            "text/plain": [
              "[<p class=\"f5 color-fg-muted mb-0 mt-1\">\n",
              "           3D refers to the use of three-dimensional graphics, modeling, and animation in various industries.\n",
              "         </p>,\n",
              " <p class=\"f5 color-fg-muted mb-0 mt-1\">\n",
              "           Ajax is a technique for creating interactive web applications.\n",
              "         </p>,\n",
              " <p class=\"f5 color-fg-muted mb-0 mt-1\">\n",
              "           Algorithms are self-contained sequences that carry out a variety of tasks.\n",
              "         </p>,\n",
              " <p class=\"f5 color-fg-muted mb-0 mt-1\">\n",
              "           Amp is a non-blocking concurrency library for PHP.\n",
              "         </p>,\n",
              " <p class=\"f5 color-fg-muted mb-0 mt-1\">\n",
              "           Android is an operating system built by Google designed for mobile devices.\n",
              "         </p>]"
            ]
          },
          "metadata": {},
          "execution_count": 24
        }
      ],
      "source": [
        "p_tags_p[:5]"
      ]
    },
    {
      "cell_type": "code",
      "execution_count": 25,
      "metadata": {
        "colab": {
          "base_uri": "https://localhost:8080/"
        },
        "id": "vbJ-rl-dMwbg",
        "outputId": "518f5695-af17-4d4a-c393-53fc053ae0c1"
      },
      "outputs": [
        {
          "output_type": "execute_result",
          "data": {
            "text/plain": [
              "['3D refers to the use of three-dimensional graphics, modeling, and animation in various industries.',\n",
              " 'Ajax is a technique for creating interactive web applications.',\n",
              " 'Algorithms are self-contained sequences that carry out a variety of tasks.',\n",
              " 'Amp is a non-blocking concurrency library for PHP.',\n",
              " 'Android is an operating system built by Google designed for mobile devices.',\n",
              " 'Angular is an open source web application platform.',\n",
              " 'Ansible is a simple and powerful automation engine.',\n",
              " 'An API (Application Programming Interface) is a collection of protocols and subroutines for building software.',\n",
              " 'Arduino is an open source platform for building electronic devices.',\n",
              " 'ASP.NET is a web framework for building modern web apps and services.',\n",
              " 'Atom is a open source text editor built with web technologies.',\n",
              " 'An awesome list is a list of awesome things curated by the community.',\n",
              " 'Amazon Web Services provides on-demand cloud computing platforms on a subscription basis.',\n",
              " 'Azure is a cloud computing service created by Microsoft.',\n",
              " 'Babel is a compiler for writing next generation JavaScript, today.',\n",
              " 'Bash is a shell and command language interpreter for the GNU operating system.',\n",
              " 'Bitcoin is a cryptocurrency developed by Satoshi Nakamoto.',\n",
              " 'Bootstrap is an HTML, CSS, and JavaScript framework.',\n",
              " 'A bot is an application that runs automated tasks over the Internet.',\n",
              " 'C is a general purpose programming language that first appeared in 1972.',\n",
              " 'Chrome is a web browser from the tech company Google.',\n",
              " 'Chrome extensions enable users to customize the Chrome browsing experience.',\n",
              " 'A CLI, or command-line interface, is a console that helps users issue commands to a program.',\n",
              " 'Clojure is a dynamic, general-purpose programming language.',\n",
              " 'Automate your code review with style, quality, security, and test‑coverage checks when you need them.',\n",
              " 'Ensure your code meets quality standards and ship with confidence.',\n",
              " 'Compilers are software that translate higher-level programming languages to lower-level languages (e.g. machine code).',\n",
              " 'Automatically build and test your code as you push it upstream, preventing bugs from being deployed to production.',\n",
              " 'The coronavirus disease 2019 (COVID-19) is an infectious disease caused by SARS-CoV-2.',\n",
              " 'C++ is a general purpose and object-oriented programming language.']"
            ]
          },
          "metadata": {},
          "execution_count": 25
        }
      ],
      "source": [
        "paragraphs = []\n",
        "for paragraph in p_tags_p:\n",
        "    paragraphs.append(paragraph.text.strip())\n",
        "paragraphs"
      ]
    },
    {
      "cell_type": "code",
      "execution_count": 26,
      "metadata": {
        "colab": {
          "base_uri": "https://localhost:8080/"
        },
        "id": "GZlvZLFVMwbh",
        "outputId": "1ecc524a-c4bf-4f94-9df0-95fd25b5ad56"
      },
      "outputs": [
        {
          "output_type": "execute_result",
          "data": {
            "text/plain": [
              "['https://github.com//topics/3d',\n",
              " 'https://github.com//topics/ajax',\n",
              " 'https://github.com//topics/algorithm',\n",
              " 'https://github.com//topics/amphp',\n",
              " 'https://github.com//topics/android',\n",
              " 'https://github.com//topics/angular',\n",
              " 'https://github.com//topics/ansible',\n",
              " 'https://github.com//topics/api',\n",
              " 'https://github.com//topics/arduino',\n",
              " 'https://github.com//topics/aspnet',\n",
              " 'https://github.com//topics/atom',\n",
              " 'https://github.com//topics/awesome',\n",
              " 'https://github.com//topics/aws',\n",
              " 'https://github.com//topics/azure',\n",
              " 'https://github.com//topics/babel',\n",
              " 'https://github.com//topics/bash',\n",
              " 'https://github.com//topics/bitcoin',\n",
              " 'https://github.com//topics/bootstrap',\n",
              " 'https://github.com//topics/bot',\n",
              " 'https://github.com//topics/c',\n",
              " 'https://github.com//topics/chrome',\n",
              " 'https://github.com//topics/chrome-extension',\n",
              " 'https://github.com//topics/cli',\n",
              " 'https://github.com//topics/clojure',\n",
              " 'https://github.com//topics/code-quality',\n",
              " 'https://github.com//topics/code-review',\n",
              " 'https://github.com//topics/compiler',\n",
              " 'https://github.com//topics/continuous-integration',\n",
              " 'https://github.com//topics/covid-19',\n",
              " 'https://github.com//topics/cpp']"
            ]
          },
          "metadata": {},
          "execution_count": 26
        }
      ],
      "source": [
        "links = []\n",
        "selected_class_links = \"no-underline flex-1 d-flex flex-column\"\n",
        "for link in doc.find_all('a',{'class' : selected_class_links}):\n",
        "    links.append(f\"https://github.com/{link.get('href')}\")\n",
        "links"
      ]
    },
    {
      "cell_type": "code",
      "execution_count": 27,
      "metadata": {
        "id": "urWGeNLaMwbh"
      },
      "outputs": [],
      "source": [
        "!pip install pandas --quiet"
      ]
    },
    {
      "cell_type": "code",
      "execution_count": 28,
      "metadata": {
        "id": "NlKtrGI1Mwbi"
      },
      "outputs": [],
      "source": [
        "import pandas as pd"
      ]
    },
    {
      "cell_type": "code",
      "execution_count": 29,
      "metadata": {
        "id": "hZ_a28HvMwbi"
      },
      "outputs": [],
      "source": [
        "topics_dict = {\n",
        "    'Title' : headings,\n",
        "    'Description' : paragraphs,\n",
        "    'URL' : links\n",
        "}\n",
        "topic_df = pd.DataFrame(topics_dict)"
      ]
    },
    {
      "cell_type": "code",
      "execution_count": 30,
      "metadata": {
        "colab": {
          "base_uri": "https://localhost:8080/",
          "height": 989
        },
        "id": "jiniNMDrMwbi",
        "outputId": "11011482-981c-40d4-8762-89a0877088e3"
      },
      "outputs": [
        {
          "output_type": "execute_result",
          "data": {
            "text/plain": [
              "                     Title                                        Description  \\\n",
              "0                       3D  3D refers to the use of three-dimensional grap...   \n",
              "1                     Ajax  Ajax is a technique for creating interactive w...   \n",
              "2                Algorithm  Algorithms are self-contained sequences that c...   \n",
              "3                      Amp  Amp is a non-blocking concurrency library for ...   \n",
              "4                  Android  Android is an operating system built by Google...   \n",
              "5                  Angular  Angular is an open source web application plat...   \n",
              "6                  Ansible  Ansible is a simple and powerful automation en...   \n",
              "7                      API  An API (Application Programming Interface) is ...   \n",
              "8                  Arduino  Arduino is an open source platform for buildin...   \n",
              "9                  ASP.NET  ASP.NET is a web framework for building modern...   \n",
              "10                    Atom  Atom is a open source text editor built with w...   \n",
              "11           Awesome Lists  An awesome list is a list of awesome things cu...   \n",
              "12     Amazon Web Services  Amazon Web Services provides on-demand cloud c...   \n",
              "13                   Azure  Azure is a cloud computing service created by ...   \n",
              "14                   Babel  Babel is a compiler for writing next generatio...   \n",
              "15                    Bash  Bash is a shell and command language interpret...   \n",
              "16                 Bitcoin  Bitcoin is a cryptocurrency developed by Satos...   \n",
              "17               Bootstrap  Bootstrap is an HTML, CSS, and JavaScript fram...   \n",
              "18                     Bot  A bot is an application that runs automated ta...   \n",
              "19                       C  C is a general purpose programming language th...   \n",
              "20                  Chrome  Chrome is a web browser from the tech company ...   \n",
              "21        Chrome extension  Chrome extensions enable users to customize th...   \n",
              "22  Command line interface  A CLI, or command-line interface, is a console...   \n",
              "23                 Clojure  Clojure is a dynamic, general-purpose programm...   \n",
              "24            Code quality  Automate your code review with style, quality,...   \n",
              "25             Code review  Ensure your code meets quality standards and s...   \n",
              "26                Compiler  Compilers are software that translate higher-l...   \n",
              "27  Continuous integration  Automatically build and test your code as you ...   \n",
              "28                COVID-19  The coronavirus disease 2019 (COVID-19) is an ...   \n",
              "29                     C++  C++ is a general purpose and object-oriented p...   \n",
              "\n",
              "                                                  URL  \n",
              "0                       https://github.com//topics/3d  \n",
              "1                     https://github.com//topics/ajax  \n",
              "2                https://github.com//topics/algorithm  \n",
              "3                    https://github.com//topics/amphp  \n",
              "4                  https://github.com//topics/android  \n",
              "5                  https://github.com//topics/angular  \n",
              "6                  https://github.com//topics/ansible  \n",
              "7                      https://github.com//topics/api  \n",
              "8                  https://github.com//topics/arduino  \n",
              "9                   https://github.com//topics/aspnet  \n",
              "10                    https://github.com//topics/atom  \n",
              "11                 https://github.com//topics/awesome  \n",
              "12                     https://github.com//topics/aws  \n",
              "13                   https://github.com//topics/azure  \n",
              "14                   https://github.com//topics/babel  \n",
              "15                    https://github.com//topics/bash  \n",
              "16                 https://github.com//topics/bitcoin  \n",
              "17               https://github.com//topics/bootstrap  \n",
              "18                     https://github.com//topics/bot  \n",
              "19                       https://github.com//topics/c  \n",
              "20                  https://github.com//topics/chrome  \n",
              "21        https://github.com//topics/chrome-extension  \n",
              "22                     https://github.com//topics/cli  \n",
              "23                 https://github.com//topics/clojure  \n",
              "24            https://github.com//topics/code-quality  \n",
              "25             https://github.com//topics/code-review  \n",
              "26                https://github.com//topics/compiler  \n",
              "27  https://github.com//topics/continuous-integration  \n",
              "28                https://github.com//topics/covid-19  \n",
              "29                     https://github.com//topics/cpp  "
            ],
            "text/html": [
              "\n",
              "  <div id=\"df-c08ebbfb-0dff-4da3-a390-b8281c6b70db\" class=\"colab-df-container\">\n",
              "    <div>\n",
              "<style scoped>\n",
              "    .dataframe tbody tr th:only-of-type {\n",
              "        vertical-align: middle;\n",
              "    }\n",
              "\n",
              "    .dataframe tbody tr th {\n",
              "        vertical-align: top;\n",
              "    }\n",
              "\n",
              "    .dataframe thead th {\n",
              "        text-align: right;\n",
              "    }\n",
              "</style>\n",
              "<table border=\"1\" class=\"dataframe\">\n",
              "  <thead>\n",
              "    <tr style=\"text-align: right;\">\n",
              "      <th></th>\n",
              "      <th>Title</th>\n",
              "      <th>Description</th>\n",
              "      <th>URL</th>\n",
              "    </tr>\n",
              "  </thead>\n",
              "  <tbody>\n",
              "    <tr>\n",
              "      <th>0</th>\n",
              "      <td>3D</td>\n",
              "      <td>3D refers to the use of three-dimensional grap...</td>\n",
              "      <td>https://github.com//topics/3d</td>\n",
              "    </tr>\n",
              "    <tr>\n",
              "      <th>1</th>\n",
              "      <td>Ajax</td>\n",
              "      <td>Ajax is a technique for creating interactive w...</td>\n",
              "      <td>https://github.com//topics/ajax</td>\n",
              "    </tr>\n",
              "    <tr>\n",
              "      <th>2</th>\n",
              "      <td>Algorithm</td>\n",
              "      <td>Algorithms are self-contained sequences that c...</td>\n",
              "      <td>https://github.com//topics/algorithm</td>\n",
              "    </tr>\n",
              "    <tr>\n",
              "      <th>3</th>\n",
              "      <td>Amp</td>\n",
              "      <td>Amp is a non-blocking concurrency library for ...</td>\n",
              "      <td>https://github.com//topics/amphp</td>\n",
              "    </tr>\n",
              "    <tr>\n",
              "      <th>4</th>\n",
              "      <td>Android</td>\n",
              "      <td>Android is an operating system built by Google...</td>\n",
              "      <td>https://github.com//topics/android</td>\n",
              "    </tr>\n",
              "    <tr>\n",
              "      <th>5</th>\n",
              "      <td>Angular</td>\n",
              "      <td>Angular is an open source web application plat...</td>\n",
              "      <td>https://github.com//topics/angular</td>\n",
              "    </tr>\n",
              "    <tr>\n",
              "      <th>6</th>\n",
              "      <td>Ansible</td>\n",
              "      <td>Ansible is a simple and powerful automation en...</td>\n",
              "      <td>https://github.com//topics/ansible</td>\n",
              "    </tr>\n",
              "    <tr>\n",
              "      <th>7</th>\n",
              "      <td>API</td>\n",
              "      <td>An API (Application Programming Interface) is ...</td>\n",
              "      <td>https://github.com//topics/api</td>\n",
              "    </tr>\n",
              "    <tr>\n",
              "      <th>8</th>\n",
              "      <td>Arduino</td>\n",
              "      <td>Arduino is an open source platform for buildin...</td>\n",
              "      <td>https://github.com//topics/arduino</td>\n",
              "    </tr>\n",
              "    <tr>\n",
              "      <th>9</th>\n",
              "      <td>ASP.NET</td>\n",
              "      <td>ASP.NET is a web framework for building modern...</td>\n",
              "      <td>https://github.com//topics/aspnet</td>\n",
              "    </tr>\n",
              "    <tr>\n",
              "      <th>10</th>\n",
              "      <td>Atom</td>\n",
              "      <td>Atom is a open source text editor built with w...</td>\n",
              "      <td>https://github.com//topics/atom</td>\n",
              "    </tr>\n",
              "    <tr>\n",
              "      <th>11</th>\n",
              "      <td>Awesome Lists</td>\n",
              "      <td>An awesome list is a list of awesome things cu...</td>\n",
              "      <td>https://github.com//topics/awesome</td>\n",
              "    </tr>\n",
              "    <tr>\n",
              "      <th>12</th>\n",
              "      <td>Amazon Web Services</td>\n",
              "      <td>Amazon Web Services provides on-demand cloud c...</td>\n",
              "      <td>https://github.com//topics/aws</td>\n",
              "    </tr>\n",
              "    <tr>\n",
              "      <th>13</th>\n",
              "      <td>Azure</td>\n",
              "      <td>Azure is a cloud computing service created by ...</td>\n",
              "      <td>https://github.com//topics/azure</td>\n",
              "    </tr>\n",
              "    <tr>\n",
              "      <th>14</th>\n",
              "      <td>Babel</td>\n",
              "      <td>Babel is a compiler for writing next generatio...</td>\n",
              "      <td>https://github.com//topics/babel</td>\n",
              "    </tr>\n",
              "    <tr>\n",
              "      <th>15</th>\n",
              "      <td>Bash</td>\n",
              "      <td>Bash is a shell and command language interpret...</td>\n",
              "      <td>https://github.com//topics/bash</td>\n",
              "    </tr>\n",
              "    <tr>\n",
              "      <th>16</th>\n",
              "      <td>Bitcoin</td>\n",
              "      <td>Bitcoin is a cryptocurrency developed by Satos...</td>\n",
              "      <td>https://github.com//topics/bitcoin</td>\n",
              "    </tr>\n",
              "    <tr>\n",
              "      <th>17</th>\n",
              "      <td>Bootstrap</td>\n",
              "      <td>Bootstrap is an HTML, CSS, and JavaScript fram...</td>\n",
              "      <td>https://github.com//topics/bootstrap</td>\n",
              "    </tr>\n",
              "    <tr>\n",
              "      <th>18</th>\n",
              "      <td>Bot</td>\n",
              "      <td>A bot is an application that runs automated ta...</td>\n",
              "      <td>https://github.com//topics/bot</td>\n",
              "    </tr>\n",
              "    <tr>\n",
              "      <th>19</th>\n",
              "      <td>C</td>\n",
              "      <td>C is a general purpose programming language th...</td>\n",
              "      <td>https://github.com//topics/c</td>\n",
              "    </tr>\n",
              "    <tr>\n",
              "      <th>20</th>\n",
              "      <td>Chrome</td>\n",
              "      <td>Chrome is a web browser from the tech company ...</td>\n",
              "      <td>https://github.com//topics/chrome</td>\n",
              "    </tr>\n",
              "    <tr>\n",
              "      <th>21</th>\n",
              "      <td>Chrome extension</td>\n",
              "      <td>Chrome extensions enable users to customize th...</td>\n",
              "      <td>https://github.com//topics/chrome-extension</td>\n",
              "    </tr>\n",
              "    <tr>\n",
              "      <th>22</th>\n",
              "      <td>Command line interface</td>\n",
              "      <td>A CLI, or command-line interface, is a console...</td>\n",
              "      <td>https://github.com//topics/cli</td>\n",
              "    </tr>\n",
              "    <tr>\n",
              "      <th>23</th>\n",
              "      <td>Clojure</td>\n",
              "      <td>Clojure is a dynamic, general-purpose programm...</td>\n",
              "      <td>https://github.com//topics/clojure</td>\n",
              "    </tr>\n",
              "    <tr>\n",
              "      <th>24</th>\n",
              "      <td>Code quality</td>\n",
              "      <td>Automate your code review with style, quality,...</td>\n",
              "      <td>https://github.com//topics/code-quality</td>\n",
              "    </tr>\n",
              "    <tr>\n",
              "      <th>25</th>\n",
              "      <td>Code review</td>\n",
              "      <td>Ensure your code meets quality standards and s...</td>\n",
              "      <td>https://github.com//topics/code-review</td>\n",
              "    </tr>\n",
              "    <tr>\n",
              "      <th>26</th>\n",
              "      <td>Compiler</td>\n",
              "      <td>Compilers are software that translate higher-l...</td>\n",
              "      <td>https://github.com//topics/compiler</td>\n",
              "    </tr>\n",
              "    <tr>\n",
              "      <th>27</th>\n",
              "      <td>Continuous integration</td>\n",
              "      <td>Automatically build and test your code as you ...</td>\n",
              "      <td>https://github.com//topics/continuous-integration</td>\n",
              "    </tr>\n",
              "    <tr>\n",
              "      <th>28</th>\n",
              "      <td>COVID-19</td>\n",
              "      <td>The coronavirus disease 2019 (COVID-19) is an ...</td>\n",
              "      <td>https://github.com//topics/covid-19</td>\n",
              "    </tr>\n",
              "    <tr>\n",
              "      <th>29</th>\n",
              "      <td>C++</td>\n",
              "      <td>C++ is a general purpose and object-oriented p...</td>\n",
              "      <td>https://github.com//topics/cpp</td>\n",
              "    </tr>\n",
              "  </tbody>\n",
              "</table>\n",
              "</div>\n",
              "    <div class=\"colab-df-buttons\">\n",
              "\n",
              "  <div class=\"colab-df-container\">\n",
              "    <button class=\"colab-df-convert\" onclick=\"convertToInteractive('df-c08ebbfb-0dff-4da3-a390-b8281c6b70db')\"\n",
              "            title=\"Convert this dataframe to an interactive table.\"\n",
              "            style=\"display:none;\">\n",
              "\n",
              "  <svg xmlns=\"http://www.w3.org/2000/svg\" height=\"24px\" viewBox=\"0 -960 960 960\">\n",
              "    <path d=\"M120-120v-720h720v720H120Zm60-500h600v-160H180v160Zm220 220h160v-160H400v160Zm0 220h160v-160H400v160ZM180-400h160v-160H180v160Zm440 0h160v-160H620v160ZM180-180h160v-160H180v160Zm440 0h160v-160H620v160Z\"/>\n",
              "  </svg>\n",
              "    </button>\n",
              "\n",
              "  <style>\n",
              "    .colab-df-container {\n",
              "      display:flex;\n",
              "      gap: 12px;\n",
              "    }\n",
              "\n",
              "    .colab-df-convert {\n",
              "      background-color: #E8F0FE;\n",
              "      border: none;\n",
              "      border-radius: 50%;\n",
              "      cursor: pointer;\n",
              "      display: none;\n",
              "      fill: #1967D2;\n",
              "      height: 32px;\n",
              "      padding: 0 0 0 0;\n",
              "      width: 32px;\n",
              "    }\n",
              "\n",
              "    .colab-df-convert:hover {\n",
              "      background-color: #E2EBFA;\n",
              "      box-shadow: 0px 1px 2px rgba(60, 64, 67, 0.3), 0px 1px 3px 1px rgba(60, 64, 67, 0.15);\n",
              "      fill: #174EA6;\n",
              "    }\n",
              "\n",
              "    .colab-df-buttons div {\n",
              "      margin-bottom: 4px;\n",
              "    }\n",
              "\n",
              "    [theme=dark] .colab-df-convert {\n",
              "      background-color: #3B4455;\n",
              "      fill: #D2E3FC;\n",
              "    }\n",
              "\n",
              "    [theme=dark] .colab-df-convert:hover {\n",
              "      background-color: #434B5C;\n",
              "      box-shadow: 0px 1px 3px 1px rgba(0, 0, 0, 0.15);\n",
              "      filter: drop-shadow(0px 1px 2px rgba(0, 0, 0, 0.3));\n",
              "      fill: #FFFFFF;\n",
              "    }\n",
              "  </style>\n",
              "\n",
              "    <script>\n",
              "      const buttonEl =\n",
              "        document.querySelector('#df-c08ebbfb-0dff-4da3-a390-b8281c6b70db button.colab-df-convert');\n",
              "      buttonEl.style.display =\n",
              "        google.colab.kernel.accessAllowed ? 'block' : 'none';\n",
              "\n",
              "      async function convertToInteractive(key) {\n",
              "        const element = document.querySelector('#df-c08ebbfb-0dff-4da3-a390-b8281c6b70db');\n",
              "        const dataTable =\n",
              "          await google.colab.kernel.invokeFunction('convertToInteractive',\n",
              "                                                    [key], {});\n",
              "        if (!dataTable) return;\n",
              "\n",
              "        const docLinkHtml = 'Like what you see? Visit the ' +\n",
              "          '<a target=\"_blank\" href=https://colab.research.google.com/notebooks/data_table.ipynb>data table notebook</a>'\n",
              "          + ' to learn more about interactive tables.';\n",
              "        element.innerHTML = '';\n",
              "        dataTable['output_type'] = 'display_data';\n",
              "        await google.colab.output.renderOutput(dataTable, element);\n",
              "        const docLink = document.createElement('div');\n",
              "        docLink.innerHTML = docLinkHtml;\n",
              "        element.appendChild(docLink);\n",
              "      }\n",
              "    </script>\n",
              "  </div>\n",
              "\n",
              "\n",
              "<div id=\"df-3385cebc-378d-41f9-a9d8-3afb274828f8\">\n",
              "  <button class=\"colab-df-quickchart\" onclick=\"quickchart('df-3385cebc-378d-41f9-a9d8-3afb274828f8')\"\n",
              "            title=\"Suggest charts\"\n",
              "            style=\"display:none;\">\n",
              "\n",
              "<svg xmlns=\"http://www.w3.org/2000/svg\" height=\"24px\"viewBox=\"0 0 24 24\"\n",
              "     width=\"24px\">\n",
              "    <g>\n",
              "        <path d=\"M19 3H5c-1.1 0-2 .9-2 2v14c0 1.1.9 2 2 2h14c1.1 0 2-.9 2-2V5c0-1.1-.9-2-2-2zM9 17H7v-7h2v7zm4 0h-2V7h2v10zm4 0h-2v-4h2v4z\"/>\n",
              "    </g>\n",
              "</svg>\n",
              "  </button>\n",
              "\n",
              "<style>\n",
              "  .colab-df-quickchart {\n",
              "      --bg-color: #E8F0FE;\n",
              "      --fill-color: #1967D2;\n",
              "      --hover-bg-color: #E2EBFA;\n",
              "      --hover-fill-color: #174EA6;\n",
              "      --disabled-fill-color: #AAA;\n",
              "      --disabled-bg-color: #DDD;\n",
              "  }\n",
              "\n",
              "  [theme=dark] .colab-df-quickchart {\n",
              "      --bg-color: #3B4455;\n",
              "      --fill-color: #D2E3FC;\n",
              "      --hover-bg-color: #434B5C;\n",
              "      --hover-fill-color: #FFFFFF;\n",
              "      --disabled-bg-color: #3B4455;\n",
              "      --disabled-fill-color: #666;\n",
              "  }\n",
              "\n",
              "  .colab-df-quickchart {\n",
              "    background-color: var(--bg-color);\n",
              "    border: none;\n",
              "    border-radius: 50%;\n",
              "    cursor: pointer;\n",
              "    display: none;\n",
              "    fill: var(--fill-color);\n",
              "    height: 32px;\n",
              "    padding: 0;\n",
              "    width: 32px;\n",
              "  }\n",
              "\n",
              "  .colab-df-quickchart:hover {\n",
              "    background-color: var(--hover-bg-color);\n",
              "    box-shadow: 0 1px 2px rgba(60, 64, 67, 0.3), 0 1px 3px 1px rgba(60, 64, 67, 0.15);\n",
              "    fill: var(--button-hover-fill-color);\n",
              "  }\n",
              "\n",
              "  .colab-df-quickchart-complete:disabled,\n",
              "  .colab-df-quickchart-complete:disabled:hover {\n",
              "    background-color: var(--disabled-bg-color);\n",
              "    fill: var(--disabled-fill-color);\n",
              "    box-shadow: none;\n",
              "  }\n",
              "\n",
              "  .colab-df-spinner {\n",
              "    border: 2px solid var(--fill-color);\n",
              "    border-color: transparent;\n",
              "    border-bottom-color: var(--fill-color);\n",
              "    animation:\n",
              "      spin 1s steps(1) infinite;\n",
              "  }\n",
              "\n",
              "  @keyframes spin {\n",
              "    0% {\n",
              "      border-color: transparent;\n",
              "      border-bottom-color: var(--fill-color);\n",
              "      border-left-color: var(--fill-color);\n",
              "    }\n",
              "    20% {\n",
              "      border-color: transparent;\n",
              "      border-left-color: var(--fill-color);\n",
              "      border-top-color: var(--fill-color);\n",
              "    }\n",
              "    30% {\n",
              "      border-color: transparent;\n",
              "      border-left-color: var(--fill-color);\n",
              "      border-top-color: var(--fill-color);\n",
              "      border-right-color: var(--fill-color);\n",
              "    }\n",
              "    40% {\n",
              "      border-color: transparent;\n",
              "      border-right-color: var(--fill-color);\n",
              "      border-top-color: var(--fill-color);\n",
              "    }\n",
              "    60% {\n",
              "      border-color: transparent;\n",
              "      border-right-color: var(--fill-color);\n",
              "    }\n",
              "    80% {\n",
              "      border-color: transparent;\n",
              "      border-right-color: var(--fill-color);\n",
              "      border-bottom-color: var(--fill-color);\n",
              "    }\n",
              "    90% {\n",
              "      border-color: transparent;\n",
              "      border-bottom-color: var(--fill-color);\n",
              "    }\n",
              "  }\n",
              "</style>\n",
              "\n",
              "  <script>\n",
              "    async function quickchart(key) {\n",
              "      const quickchartButtonEl =\n",
              "        document.querySelector('#' + key + ' button');\n",
              "      quickchartButtonEl.disabled = true;  // To prevent multiple clicks.\n",
              "      quickchartButtonEl.classList.add('colab-df-spinner');\n",
              "      try {\n",
              "        const charts = await google.colab.kernel.invokeFunction(\n",
              "            'suggestCharts', [key], {});\n",
              "      } catch (error) {\n",
              "        console.error('Error during call to suggestCharts:', error);\n",
              "      }\n",
              "      quickchartButtonEl.classList.remove('colab-df-spinner');\n",
              "      quickchartButtonEl.classList.add('colab-df-quickchart-complete');\n",
              "    }\n",
              "    (() => {\n",
              "      let quickchartButtonEl =\n",
              "        document.querySelector('#df-3385cebc-378d-41f9-a9d8-3afb274828f8 button');\n",
              "      quickchartButtonEl.style.display =\n",
              "        google.colab.kernel.accessAllowed ? 'block' : 'none';\n",
              "    })();\n",
              "  </script>\n",
              "</div>\n",
              "\n",
              "  <div id=\"id_9ca026ed-f439-4e3c-bade-3dcd986901df\">\n",
              "    <style>\n",
              "      .colab-df-generate {\n",
              "        background-color: #E8F0FE;\n",
              "        border: none;\n",
              "        border-radius: 50%;\n",
              "        cursor: pointer;\n",
              "        display: none;\n",
              "        fill: #1967D2;\n",
              "        height: 32px;\n",
              "        padding: 0 0 0 0;\n",
              "        width: 32px;\n",
              "      }\n",
              "\n",
              "      .colab-df-generate:hover {\n",
              "        background-color: #E2EBFA;\n",
              "        box-shadow: 0px 1px 2px rgba(60, 64, 67, 0.3), 0px 1px 3px 1px rgba(60, 64, 67, 0.15);\n",
              "        fill: #174EA6;\n",
              "      }\n",
              "\n",
              "      [theme=dark] .colab-df-generate {\n",
              "        background-color: #3B4455;\n",
              "        fill: #D2E3FC;\n",
              "      }\n",
              "\n",
              "      [theme=dark] .colab-df-generate:hover {\n",
              "        background-color: #434B5C;\n",
              "        box-shadow: 0px 1px 3px 1px rgba(0, 0, 0, 0.15);\n",
              "        filter: drop-shadow(0px 1px 2px rgba(0, 0, 0, 0.3));\n",
              "        fill: #FFFFFF;\n",
              "      }\n",
              "    </style>\n",
              "    <button class=\"colab-df-generate\" onclick=\"generateWithVariable('topic_df')\"\n",
              "            title=\"Generate code using this dataframe.\"\n",
              "            style=\"display:none;\">\n",
              "\n",
              "  <svg xmlns=\"http://www.w3.org/2000/svg\" height=\"24px\"viewBox=\"0 0 24 24\"\n",
              "       width=\"24px\">\n",
              "    <path d=\"M7,19H8.4L18.45,9,17,7.55,7,17.6ZM5,21V16.75L18.45,3.32a2,2,0,0,1,2.83,0l1.4,1.43a1.91,1.91,0,0,1,.58,1.4,1.91,1.91,0,0,1-.58,1.4L9.25,21ZM18.45,9,17,7.55Zm-12,3A5.31,5.31,0,0,0,4.9,8.1,5.31,5.31,0,0,0,1,6.5,5.31,5.31,0,0,0,4.9,4.9,5.31,5.31,0,0,0,6.5,1,5.31,5.31,0,0,0,8.1,4.9,5.31,5.31,0,0,0,12,6.5,5.46,5.46,0,0,0,6.5,12Z\"/>\n",
              "  </svg>\n",
              "    </button>\n",
              "    <script>\n",
              "      (() => {\n",
              "      const buttonEl =\n",
              "        document.querySelector('#id_9ca026ed-f439-4e3c-bade-3dcd986901df button.colab-df-generate');\n",
              "      buttonEl.style.display =\n",
              "        google.colab.kernel.accessAllowed ? 'block' : 'none';\n",
              "\n",
              "      buttonEl.onclick = () => {\n",
              "        google.colab.notebook.generateWithVariable('topic_df');\n",
              "      }\n",
              "      })();\n",
              "    </script>\n",
              "  </div>\n",
              "\n",
              "    </div>\n",
              "  </div>\n"
            ],
            "application/vnd.google.colaboratory.intrinsic+json": {
              "type": "dataframe",
              "variable_name": "topic_df",
              "summary": "{\n  \"name\": \"topic_df\",\n  \"rows\": 30,\n  \"fields\": [\n    {\n      \"column\": \"Title\",\n      \"properties\": {\n        \"dtype\": \"string\",\n        \"num_unique_values\": 30,\n        \"samples\": [\n          \"Continuous integration\",\n          \"Bash\",\n          \"Clojure\"\n        ],\n        \"semantic_type\": \"\",\n        \"description\": \"\"\n      }\n    },\n    {\n      \"column\": \"Description\",\n      \"properties\": {\n        \"dtype\": \"string\",\n        \"num_unique_values\": 30,\n        \"samples\": [\n          \"Automatically build and test your code as you push it upstream, preventing bugs from being deployed to production.\",\n          \"Bash is a shell and command language interpreter for the GNU operating system.\",\n          \"Clojure is a dynamic, general-purpose programming language.\"\n        ],\n        \"semantic_type\": \"\",\n        \"description\": \"\"\n      }\n    },\n    {\n      \"column\": \"URL\",\n      \"properties\": {\n        \"dtype\": \"string\",\n        \"num_unique_values\": 30,\n        \"samples\": [\n          \"https://github.com//topics/continuous-integration\",\n          \"https://github.com//topics/bash\",\n          \"https://github.com//topics/clojure\"\n        ],\n        \"semantic_type\": \"\",\n        \"description\": \"\"\n      }\n    }\n  ]\n}"
            }
          },
          "metadata": {},
          "execution_count": 30
        }
      ],
      "source": [
        "topic_df"
      ]
    },
    {
      "cell_type": "code",
      "execution_count": 31,
      "metadata": {
        "id": "EIbHYPNHMwbj"
      },
      "outputs": [],
      "source": [
        "topic_df.to_csv('github_topics.csv',index = None)"
      ]
    },
    {
      "cell_type": "markdown",
      "metadata": {
        "id": "BZULW6oiMwbj"
      },
      "source": [
        "## Getting Information out of a topic page"
      ]
    },
    {
      "cell_type": "code",
      "execution_count": 32,
      "metadata": {
        "id": "VZI6yIQaUr2c"
      },
      "outputs": [],
      "source": [
        "from bs4 import BeautifulSoup\n",
        "\n",
        "usernames = []\n",
        "repository_names = []\n",
        "repository_url = []\n",
        "profile_url = []\n",
        "stars = []\n",
        "\n",
        "def load_topic(index):\n",
        "\n",
        "  #load the page\n",
        "  topic_page_url = links[index]\n",
        "  response = requests.get(topic_page_url)\n",
        "\n",
        "  #check status code\n",
        "  if response.status_code == 200:\n",
        "    topic_doc = BeautifulSoup(response.text , 'html.parser')\n",
        "\n",
        "    # create a new html file\n",
        "    with open ('topic_detail.html','a+') as file:\n",
        "      file.write(response.text)\n",
        "\n",
        "    #finding owners of the github repositories\n",
        "    for link in topic_doc.find_all('a', {'class': 'Link'}):\n",
        "      classes = link.get('class')\n",
        "      if classes and len(classes) == 1 and 'Link' in classes:\n",
        "          usernames.append(link.text.strip())\n",
        "\n",
        "    suggested_class = 'Link text-bold wb-break-word'\n",
        "\n",
        "    # finding repositories names\n",
        "    for name in topic_doc.find_all('a',{'class':suggested_class}):\n",
        "        repository_names.append(name.text.strip())\n",
        "\n",
        "    # finding github repository url\n",
        "    for i in topic_doc.find_all('a',{'class':suggested_class}):\n",
        "        repository_url.append(f\"https://github.com/{i.get('href')}\")\n",
        "\n",
        "    #Finding owner github profile link\n",
        "    for link in topic_doc.find_all('a', {'class': 'Link'}):\n",
        "        classes = link.get('class')\n",
        "        if classes and len(classes) == 1 and 'Link' in classes:\n",
        "            profile_url.append(f\"https://github.com/{link.get('href')}\")\n",
        "\n",
        "    # finding number of stars related to the repo\n",
        "    for i in topic_doc.find_all('span',{'class':'Counter js-social-count'}):\n",
        "      a = i.text\n",
        "      if a[-1] == \"k\":\n",
        "        stars.append(int(float(a[:-1]) * 1000))\n",
        "      else:\n",
        "        stars.append(int(a))\n",
        "\n",
        "    #combining everything to dataframe\n",
        "    info_dict = {\n",
        "      'Username' : usernames,\n",
        "      'Top Repository' : repository_names,\n",
        "      'Github' : profile_url,\n",
        "      'Repository URL' : repository_url,\n",
        "      'Ratings' :stars\n",
        "    }\n",
        "    info_df = pd.DataFrame(info_dict)\n",
        "\n",
        "    #saving to the excel file\n",
        "    info_df.to_csv('github_info.csv',index = None)\n",
        "  else:\n",
        "    print(\"Not found\")\n",
        "\n",
        "for index,i in enumerate(links):\n",
        "  load_topic(index)\n",
        "\n"
      ]
    },
    {
      "cell_type": "code",
      "execution_count": 33,
      "metadata": {
        "id": "AhBNIUVCMwb5"
      },
      "outputs": [],
      "source": [
        "import csv\n",
        "\n",
        "# Read data from file 1\n",
        "with open('github_topics.csv', 'r') as file1:\n",
        "    reader1 = csv.reader(file1)\n",
        "    data1 = list(reader1)\n",
        "\n",
        "# Read data from file 2\n",
        "with open('github_info.csv', 'r') as file2:\n",
        "    reader2 = csv.reader(file2)\n",
        "    data2 = list(reader2)\n",
        "\n",
        "# Create a new CSV file for the combined data\n",
        "with open('combined_file.csv', 'w', newline='') as combined_file:\n",
        "    writer = csv.writer(combined_file)\n",
        "\n",
        "    # Iterate through each row in file 1\n",
        "    for row1 in data1:\n",
        "        # Repeat each row in file 1 19 times\n",
        "        for _ in range(19):\n",
        "            # Get the corresponding row from file 2\n",
        "            row2 = data2.pop(0)  # Remove and get the first row from file 2\n",
        "            # Combine rows from file 1 and file 2\n",
        "            combined_row = row1 + row2\n",
        "            # Write the combined row to the new CSV file\n",
        "            writer.writerow(combined_row)\n",
        "\n",
        "            if not data2:  # If data2 is empty, refill it for the next cycle\n",
        "                with open('github_info.csv', 'r') as file2:\n",
        "                    reader2 = csv.reader(file2)\n",
        "                    next(reader2)  # Skip header\n",
        "                    data2 = list(reader2)\n"
      ]
    }
  ],
  "metadata": {
    "colab": {
      "provenance": []
    },
    "kernelspec": {
      "display_name": "Python 3 (ipykernel)",
      "language": "python",
      "name": "python3"
    },
    "language_info": {
      "codemirror_mode": {
        "name": "ipython",
        "version": 3
      },
      "file_extension": ".py",
      "mimetype": "text/x-python",
      "name": "python",
      "nbconvert_exporter": "python",
      "pygments_lexer": "ipython3",
      "version": "3.9.7"
    }
  },
  "nbformat": 4,
  "nbformat_minor": 0
}